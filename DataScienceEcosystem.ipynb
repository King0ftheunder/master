{
 "cells": [
  {
   "cell_type": "markdown",
   "id": "b90e2ac3-1994-4f4b-91f3-e0f47a198157",
   "metadata": {},
   "source": [
    "# Data Science Tools and Ecosystem"
   ]
  },
  {
   "cell_type": "markdown",
   "id": "eae440ec-cef2-4493-93e2-6b683eb0573c",
   "metadata": {},
   "source": [
    "In this notebook, Data Science Tools and Ecosystem are summarized."
   ]
  },
  {
   "cell_type": "markdown",
   "id": "f5b9073e-f2c2-4218-abd3-f0caa0e7e537",
   "metadata": {},
   "source": [
    "Some of the popular languages that Data Scientists use are: \n",
    "1. R\n",
    "2. Python\n",
    "3. SQL\n"
   ]
  },
  {
   "cell_type": "markdown",
   "id": "e849e340-f33f-4192-8ae9-a21ae591b329",
   "metadata": {},
   "source": [
    "Some of the commonly used libraries used by Data Scientists include:\n",
    "1. Pandas\n",
    "2. scikitlearn\n",
    "3. Plotly"
   ]
  },
  {
   "cell_type": "markdown",
   "id": "de0edfc4-a3ef-4670-9ea0-0880cb4692c2",
   "metadata": {},
   "source": [
    "Data Science tools:\n",
    "1. Jupyter Notebooks\n",
    "2. VScode\n",
    "3. Python"
   ]
  },
  {
   "cell_type": "markdown",
   "id": "64dda8a1-1c73-42b7-b995-ed5f74c1bff5",
   "metadata": {
    "tags": []
   },
   "source": [
    "Below are a few examples of evaluating arithmetic expressions in Python"
   ]
  },
  {
   "cell_type": "code",
   "execution_count": 3,
   "id": "e3558d5a-ade8-437c-b497-9fc88f1b3686",
   "metadata": {
    "tags": []
   },
   "outputs": [
    {
     "data": {
      "text/plain": [
       "17"
      ]
     },
     "execution_count": 3,
     "metadata": {},
     "output_type": "execute_result"
    }
   ],
   "source": [
    "# This a simple arithmetic expression to mutiply then add integers\n",
    "(3*4)+5"
   ]
  },
  {
   "cell_type": "code",
   "execution_count": 4,
   "id": "4cd6d8a6-598c-4233-9674-8caef6a333e4",
   "metadata": {
    "tags": []
   },
   "outputs": [
    {
     "data": {
      "text/plain": [
       "3.3333333333333335"
      ]
     },
     "execution_count": 4,
     "metadata": {},
     "output_type": "execute_result"
    }
   ],
   "source": [
    "# This will convert 200 minutes to hours by diving by 60\n",
    "200/60"
   ]
  },
  {
   "cell_type": "markdown",
   "id": "3f663a88-d853-488c-b3ab-9f10b5205b54",
   "metadata": {},
   "source": [
    "**Objectives:**\n",
    "- List popular tools for data science\n",
    "- List popular libraries for data science\n",
    "- List popular Languages for data science"
   ]
  },
  {
   "cell_type": "markdown",
   "id": "eb465e0e-67ef-4c46-94d6-f4cf580ca774",
   "metadata": {},
   "source": [
    "## Author\n",
    "Andres "
   ]
  },
  {
   "cell_type": "code",
   "execution_count": null,
   "id": "b65168f4-c0ed-4871-b10d-5c1b07696f4a",
   "metadata": {},
   "outputs": [],
   "source": []
  }
 ],
 "metadata": {
  "kernelspec": {
   "display_name": "Python",
   "language": "python",
   "name": "conda-env-python-py"
  },
  "language_info": {
   "codemirror_mode": {
    "name": "ipython",
    "version": 3
   },
   "file_extension": ".py",
   "mimetype": "text/x-python",
   "name": "python",
   "nbconvert_exporter": "python",
   "pygments_lexer": "ipython3",
   "version": "3.7.12"
  }
 },
 "nbformat": 4,
 "nbformat_minor": 5
}
